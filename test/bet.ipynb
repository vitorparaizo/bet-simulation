{
 "cells": [
  {
   "cell_type": "code",
   "execution_count": 2,
   "id": "fd26c0c8",
   "metadata": {},
   "outputs": [],
   "source": [
    "import os \n",
    "import pandas as pd\n"
   ]
  },
  {
   "cell_type": "code",
   "execution_count": 4,
   "id": "94400fb8",
   "metadata": {},
   "outputs": [],
   "source": [
    "bet_file = 'bets.csv'\n",
    "df = pd.read_csv(bet_file)"
   ]
  },
  {
   "cell_type": "code",
   "execution_count": 5,
   "id": "c24d09b3",
   "metadata": {},
   "outputs": [
    {
     "name": "stdout",
     "output_type": "stream",
     "text": [
      "previa e verificação\n",
      "   bet_id  user_id               vertical                    bet_date  \\\n",
      "0       1      446  esportes_tradicionais  2025-05-26 01:29:11.853431   \n",
      "1       2      420        cassino_ao_vivo  2025-04-28 01:29:11.853431   \n",
      "2       3      278        cassino_ao_vivo  2025-04-12 01:29:11.853431   \n",
      "3       4      139                  slots  2025-04-13 01:29:11.853431   \n",
      "4       5      341  esportes_tradicionais  2025-05-13 01:29:11.853431   \n",
      "\n",
      "   stake_value   result     payout  \n",
      "0        19.60     loss   0.000000  \n",
      "1         7.14      win  14.188279  \n",
      "2         6.74     loss   0.000000  \n",
      "3       100.71  pending   0.000000  \n",
      "4        28.32  pending   0.000000  \n"
     ]
    }
   ],
   "source": [
    "print(\"previa e verificação\")\n",
    "print(df.head())"
   ]
  },
  {
   "cell_type": "code",
   "execution_count": 7,
   "id": "eac70a1a",
   "metadata": {},
   "outputs": [
    {
     "name": "stdout",
     "output_type": "stream",
     "text": [
      "\n",
      "colunas encontradas\n",
      "Index(['bet_id', 'user_id', 'vertical', 'bet_date', 'stake_value', 'result',\n",
      "       'payout'],\n",
      "      dtype='object')\n"
     ]
    }
   ],
   "source": [
    "print(\"\\ncolunas encontradas\")\n",
    "print(df.columns)"
   ]
  },
  {
   "cell_type": "code",
   "execution_count": null,
   "id": "b616298e",
   "metadata": {},
   "outputs": [
    {
     "name": "stdout",
     "output_type": "stream",
     "text": [
      "bets clients that had lost: 10005\n"
     ]
    }
   ],
   "source": [
    "loss = df[df['result'].str.lower() == 'loss']\n",
    "\n",
    "qtd_loss = len(loss)\n",
    "\n",
    "print(f\"bets clients that had losted: {qtd_loss}\")"
   ]
  }
 ],
 "metadata": {
  "kernelspec": {
   "display_name": "Python 3",
   "language": "python",
   "name": "python3"
  },
  "language_info": {
   "codemirror_mode": {
    "name": "ipython",
    "version": 3
   },
   "file_extension": ".py",
   "mimetype": "text/x-python",
   "name": "python",
   "nbconvert_exporter": "python",
   "pygments_lexer": "ipython3",
   "version": "3.12.4"
  }
 },
 "nbformat": 4,
 "nbformat_minor": 5
}
