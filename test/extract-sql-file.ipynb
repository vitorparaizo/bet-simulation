{
 "cells": [
  {
   "cell_type": "code",
   "execution_count": 1,
   "id": "f9a89d47",
   "metadata": {},
   "outputs": [],
   "source": [
    "import pandas as pd \n",
    "import re"
   ]
  },
  {
   "cell_type": "code",
   "execution_count": 4,
   "id": "7a534925",
   "metadata": {},
   "outputs": [],
   "source": [
    "sql_file = \"popular_banco_bet.sql\""
   ]
  },
  {
   "cell_type": "code",
   "execution_count": 5,
   "id": "ffce9fe4",
   "metadata": {},
   "outputs": [],
   "source": [
    "with open(sql_file, \"r\", encoding=\"utf-8\") as file:\n",
    "    content = file.read()"
   ]
  },
  {
   "cell_type": "code",
   "execution_count": 6,
   "id": "f82408a3",
   "metadata": {},
   "outputs": [],
   "source": [
    "pattern = re.compile(\n",
    "    r\"INSERT INTO users \\(user_id, segment, registration_date, user_channel\\)\\s+VALUES \\((\\d+), '([A-C])', '(\\d{4}-\\d{2}-\\d{2})', '([\\wáéíóúãõç]+)'\\);\"\n",
    ")"
   ]
  },
  {
   "cell_type": "code",
   "execution_count": 7,
   "id": "1ff979f3",
   "metadata": {},
   "outputs": [],
   "source": [
    "data = pattern.findall(content)"
   ]
  },
  {
   "cell_type": "code",
   "execution_count": 8,
   "id": "912b1573",
   "metadata": {},
   "outputs": [],
   "source": [
    "df = pd.DataFrame(data, columns=[\"user_id\", \"segment\", \"registration_date\", \"user_channel\"])\n",
    "\n",
    "df[\"user_id\"] = df[\"user_id\"].astype(int)\n",
    "df[\"registration_date\"] = pd.to_datetime(df[\"registration_date\"])"
   ]
  },
  {
   "cell_type": "code",
   "execution_count": 9,
   "id": "15223083",
   "metadata": {},
   "outputs": [],
   "source": [
    "df.to_csv(\"usuarios_convertidos.csv\", index=False, encoding=\"utf-8\")"
   ]
  }
 ],
 "metadata": {
  "kernelspec": {
   "display_name": "Python 3",
   "language": "python",
   "name": "python3"
  },
  "language_info": {
   "codemirror_mode": {
    "name": "ipython",
    "version": 3
   },
   "file_extension": ".py",
   "mimetype": "text/x-python",
   "name": "python",
   "nbconvert_exporter": "python",
   "pygments_lexer": "ipython3",
   "version": "3.12.4"
  }
 },
 "nbformat": 4,
 "nbformat_minor": 5
}
