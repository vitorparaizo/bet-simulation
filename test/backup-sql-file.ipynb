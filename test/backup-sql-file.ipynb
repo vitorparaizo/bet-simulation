{
 "cells": [
  {
   "cell_type": "code",
   "execution_count": 1,
   "id": "89e0c253",
   "metadata": {},
   "outputs": [],
   "source": [
    "import pandas as pd \n",
    "import re \n",
    "import os \n"
   ]
  },
  {
   "cell_type": "code",
   "execution_count": 2,
   "id": "561f42e8",
   "metadata": {},
   "outputs": [],
   "source": [
    "sql_file = \"popular_banco_bet.sql\"\n",
    "\n",
    "with open(sql_file, \"r\", encoding=\"utf-8\") as f:\n",
    "    sql = f.read()"
   ]
  },
  {
   "cell_type": "code",
   "execution_count": 3,
   "id": "60f24388",
   "metadata": {},
   "outputs": [],
   "source": [
    "pattern = re.compile(\n",
    "     r\"INSERT INTO (\\w+)\\s*\\(([^)]+)\\)\\s*VALUES\\s*\\(([^)]+)\\);\", re.IGNORECASE\n",
    ")"
   ]
  },
  {
   "cell_type": "code",
   "execution_count": 4,
   "id": "602746f9",
   "metadata": {},
   "outputs": [],
   "source": [
    "data_for_table = {}"
   ]
  },
  {
   "cell_type": "code",
   "execution_count": 9,
   "id": "2950fd1b",
   "metadata": {},
   "outputs": [],
   "source": [
    "for match in pattern.findall(sql):\n",
    "    table, columns, values = match\n",
    "    columns = [c.strip() for c in columns.split(\",\")]\n",
    "    values = [v.strip().strip(\"'\") for v in values.split(\",\")]\n",
    "\n",
    "    if table not in data_for_table:\n",
    "        data_for_table[table] = {\"columns\":columns, \"data\": []}\n",
    "\n",
    "    data_for_table[table][\"data\"].append(values)"
   ]
  },
  {
   "cell_type": "code",
   "execution_count": 15,
   "id": "211ae971",
   "metadata": {},
   "outputs": [
    {
     "name": "stdout",
     "output_type": "stream",
     "text": [
      "✅ Arquivo 'users.csv' criado com sucesso!\n",
      "✅ Arquivo 'products.csv' criado com sucesso!\n",
      "✅ Arquivo 'bets.csv' criado com sucesso!\n"
     ]
    }
   ],
   "source": [
    "for table, info in data_for_table.items():\n",
    "    df = pd.DataFrame(info[\"data\"], columns=info[\"columns\"])\n",
    "    file = f\"{table}.csv\"\n",
    "    df.to_csv(file, index=False, encoding=\"utf-8\")\n",
    "    print(f\"✅ Arquivo '{file}' criado com sucesso!\")"
   ]
  },
  {
   "cell_type": "code",
   "execution_count": 17,
   "id": "29f2c612",
   "metadata": {},
   "outputs": [
    {
     "name": "stdout",
     "output_type": "stream",
     "text": [
      "✅ Arquivo 'tabelas_unificadas.csv' criado com sucesso!\n"
     ]
    }
   ],
   "source": [
    "import pandas as pd\n",
    "import re\n",
    "\n",
    "# Caminho para o arquivo SQL\n",
    "caminho_arquivo_sql = \"popular_banco_bet.sql\"\n",
    "\n",
    "# Lê o conteúdo do SQL\n",
    "with open(caminho_arquivo_sql, \"r\", encoding=\"utf-8\") as f:\n",
    "    sql = f.read()\n",
    "\n",
    "# Regex para pegar todos os INSERTs\n",
    "pattern = re.compile(\n",
    "    r\"INSERT INTO (\\w+)\\s*\\(([^)]+)\\)\\s*VALUES\\s*\\(([^)]+)\\);\", re.IGNORECASE\n",
    ")\n",
    "\n",
    "# Lista para guardar todos os dados unificados\n",
    "linhas_unificadas = []\n",
    "\n",
    "# Processa cada INSERT\n",
    "for tabela, colunas, valores in pattern.findall(sql):\n",
    "    colunas_lista = [col.strip() for col in colunas.split(\",\")]\n",
    "    valores_lista = [val.strip().strip(\"'\") for val in valores.split(\",\")]\n",
    "\n",
    "    if len(colunas_lista) != len(valores_lista):\n",
    "        continue  # Ignora linhas malformadas\n",
    "\n",
    "    linha_dict = dict(zip(colunas_lista, valores_lista))\n",
    "    linha_dict[\"table_name\"] = tabela  # Adiciona info da tabela\n",
    "    linhas_unificadas.append(linha_dict)\n",
    "\n",
    "# Cria o DataFrame unificado\n",
    "df_unificado = pd.DataFrame(linhas_unificadas)\n",
    "\n",
    "# Salva como CSV\n",
    "df_unificado.to_csv(\"tabelas_unificadas.csv\", index=False, encoding=\"utf-8\")\n",
    "\n",
    "print(\"✅ Arquivo 'tabelas_unificadas.csv' criado com sucesso!\")\n"
   ]
  }
 ],
 "metadata": {
  "kernelspec": {
   "display_name": "Python 3",
   "language": "python",
   "name": "python3"
  },
  "language_info": {
   "codemirror_mode": {
    "name": "ipython",
    "version": 3
   },
   "file_extension": ".py",
   "mimetype": "text/x-python",
   "name": "python",
   "nbconvert_exporter": "python",
   "pygments_lexer": "ipython3",
   "version": "3.12.4"
  }
 },
 "nbformat": 4,
 "nbformat_minor": 5
}
